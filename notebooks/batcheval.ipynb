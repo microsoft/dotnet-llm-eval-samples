{
 "cells": [
  {
   "cell_type": "markdown",
   "metadata": {},
   "source": [
    "Building the projects including the library that contains the prompts to evaluate"
   ]
  },
  {
   "cell_type": "markdown",
   "metadata": {},
   "source": []
  },
  {
   "cell_type": "code",
   "execution_count": null,
   "metadata": {
    "dotnet_interactive": {
     "language": "pwsh"
    },
    "polyglot_notebook": {
     "kernelName": "pwsh"
    }
   },
   "outputs": [],
   "source": [
    "dotnet build ../examples/userstorygenerator/UserStoryGenerator\n",
    "dotnet build ../examples/batcheval/library"
   ]
  },
  {
   "cell_type": "markdown",
   "metadata": {},
   "source": [
    "We load our libraries and include them in the usings"
   ]
  },
  {
   "cell_type": "code",
   "execution_count": null,
   "metadata": {
    "dotnet_interactive": {
     "language": "csharp"
    },
    "polyglot_notebook": {
     "kernelName": "csharp"
    }
   },
   "outputs": [],
   "source": [
    "#i \"nuget:https://api.nuget.org/v3/index.json\" \n",
    "#r \"nuget:Microsoft.SemanticKernel, 1.0.1\"\n",
    "#r \"nuget:OpenTelemetry.Exporter.Console, 1.7.0\"\n",
    "#r \"nuget:OpenTelemetry.Exporter.OpenTelemetryProtocol, 1.7.0\"\n",
    "#r \"../examples/userstorygenerator/UserStoryGenerator/bin/Debug/net8.0/UserStoryGenerator.dll\"\n",
    "#r \"../examples/batcheval/library/bin/Debug/net8.0/SKEval.dll\"\n",
    "\n",
    "using Microsoft.DotNet.Interactive;\n",
    "using Microsoft.SemanticKernel;\n",
    "using UserStoryGenerator;\n",
    "using Microsoft.SKEval;\n",
    "using System.Text.Json.Nodes;"
   ]
  },
  {
   "cell_type": "markdown",
   "metadata": {},
   "source": [
    "We initialize our semantic kernel with our endpoint and key, this is going to be used for both, the prompts and the evaluation"
   ]
  },
  {
   "cell_type": "code",
   "execution_count": null,
   "metadata": {
    "dotnet_interactive": {
     "language": "csharp"
    },
    "polyglot_notebook": {
     "kernelName": "csharp"
    },
    "tags": [
     "parameters"
    ]
   },
   "outputs": [],
   "source": [
    "string modelName = \"gpt-4\";\n",
    "string openAIEndpoint = \"https://maho-sandbox-gpt4.openai.azure.com/\";\n",
    "string openAIKey = \"\";\n",
    "/*\n",
    "string modelName = \"phi\";\n",
    "string openAIEndpoint = \"http://localhost:11434\";\n",
    "string openAIKey = \"ollama\";\n",
    "*/"
   ]
  },
  {
   "cell_type": "code",
   "execution_count": null,
   "metadata": {
    "dotnet_interactive": {
     "language": "csharp"
    },
    "polyglot_notebook": {
     "kernelName": "csharp"
    }
   },
   "outputs": [],
   "source": [
    "var builder = Microsoft.SemanticKernel.Kernel.CreateBuilder();\n",
    "\n",
    "\n",
    "builder.AddAzureOpenAIChatCompletion(\n",
    "        modelName,\n",
    "        openAIEndpoint,\n",
    "        openAIKey);\n",
    "\n",
    "/*\n",
    "builder.AddOpenAIChatCompletion(\n",
    "        modelName,\n",
    "        openAIEndpoint,\n",
    "        openAIKey);\n",
    "\n",
    "*/\n",
    "var kernel = builder.Build();"
   ]
  },
  {
   "cell_type": "markdown",
   "metadata": {},
   "source": [
    "Here we import our evaluation data (aka golden set). \n",
    "If we want to use strong typing, we can also declare a user input class and pass it into the method Preview.\n"
   ]
  },
  {
   "cell_type": "code",
   "execution_count": null,
   "metadata": {
    "dotnet_interactive": {
     "language": "csharp"
    },
    "polyglot_notebook": {
     "kernelName": "csharp"
    }
   },
   "outputs": [],
   "source": [
    "var dataFilePath = \"assets/data.jsonl\";\n",
    "//var dataFilePath = \"assets/smallbatch.jsonl\";\n",
    "//dataFilePath = \"assets/tinybatch.jsonl\";\n",
    "//dataFilePath = \"assets/adversarybatch.jsonl\";\n",
    "\n",
    "var preview = await BatchEval.Core.JsonlUtils.Preview<JsonNode>(dataFilePath);\n",
    "preview"
   ]
  },
  {
   "cell_type": "markdown",
   "metadata": {},
   "source": [
    "Now we need to declare a class that implements `IInputProcessor`, this should implement the Process method, returning a ModelOutput with an Input (aka question), and Output (aka answer)."
   ]
  },
  {
   "cell_type": "code",
   "execution_count": null,
   "metadata": {
    "dotnet_interactive": {
     "language": "csharp"
    },
    "polyglot_notebook": {
     "kernelName": "csharp"
    }
   },
   "outputs": [],
   "source": [
    "internal class UserStoryCreator : Microsoft.SKEval.IInputProcessor<JsonNode>\n",
    "{\n",
    "    private readonly UserStorySkill userStoryGenerator;\n",
    "\n",
    "    public UserStoryCreator(Microsoft.SemanticKernel.Kernel kernel)\n",
    "    {\n",
    "        this.userStoryGenerator = UserStorySkill.Create(kernel);\n",
    "    }\n",
    "\n",
    "    public async Task<ModelOutput> Process(JsonNode userInput)\n",
    "    {\n",
    "        var description = userInput[\"Description\"];\n",
    "        var projectContext = userInput[\"ProjectContext\"];\n",
    "        var persona = userInput[\"Persona\"];\n",
    "        \n",
    "        var userStory = await userStoryGenerator.GetUserStory(\n",
    "            (string)userInput[\"Description\"],\n",
    "            (string)userInput[\"ProjectContext\"],\n",
    "            (string)userInput[\"Persona\"]);\n",
    "\n",
    "        return new ModelOutput() {\n",
    "            Input = $\"Generate a user story for {userInput[\"Persona\"]} so it can {userInput[\"Description\"]}\",\n",
    "            Output = $\"{userStory!.Title} - {userStory!.Description}\"\n",
    "        };\n",
    "    }\n",
    "}"
   ]
  },
  {
   "cell_type": "markdown",
   "metadata": {},
   "source": [
    "We will initialize the batch evaluation, in case the input is a strong type we can change `JsonNode here`"
   ]
  },
  {
   "cell_type": "code",
   "execution_count": null,
   "metadata": {
    "dotnet_interactive": {
     "language": "csharp"
    },
    "polyglot_notebook": {
     "kernelName": "csharp"
    }
   },
   "outputs": [],
   "source": [
    "var batchEval = new BatchEval<JsonNode>();"
   ]
  },
  {
   "cell_type": "markdown",
   "metadata": {},
   "source": [
    "In case we are using OpenTelemetry endpoint setup we can add it here, otherwise results will be printed in the standard output. \n",
    "\n",
    "> **If you have not setup OTEL collector skip this cell**"
   ]
  },
  {
   "cell_type": "code",
   "execution_count": null,
   "metadata": {
    "dotnet_interactive": {
     "language": "csharp"
    },
    "polyglot_notebook": {
     "kernelName": "csharp"
    }
   },
   "outputs": [],
   "source": [
    "batchEval.OtlpEndpoint = \"http://localhost:4317\";\n",
    "batchEval.ConfigureMeterBuilder();"
   ]
  },
  {
   "cell_type": "markdown",
   "metadata": {},
   "source": [
    "And finally we execute the batch evaluation, we can add as many evaluators as we need/want"
   ]
  },
  {
   "cell_type": "code",
   "execution_count": null,
   "metadata": {
    "dotnet_interactive": {
     "language": "csharp"
    },
    "polyglot_notebook": {
     "kernelName": "csharp"
    }
   },
   "outputs": [],
   "source": [
    "batchEval\n",
    "    .AddEvaluator(new CoherenceEval(kernel))\n",
    "    .AddEvaluator(new RelevanceEval(kernel))\n",
    "    .AddEvaluator(new GroundednessEval(kernel))\n",
    "    .AddEvaluator(new RegexEval(\"format\", \"As a.*, I want to .* so .*\"))\n",
    "    .AddEvaluator(new LenghtEval());\n"
   ]
  },
  {
   "cell_type": "markdown",
   "metadata": {},
   "source": [
    "Optionally get the results in a csv file"
   ]
  },
  {
   "cell_type": "code",
   "execution_count": null,
   "metadata": {
    "dotnet_interactive": {
     "language": "csharp"
    },
    "polyglot_notebook": {
     "kernelName": "csharp"
    }
   },
   "outputs": [],
   "source": [
    "batchEval.WithCsvOutputProcessor(\"results_adversary.csv\");"
   ]
  },
  {
   "cell_type": "code",
   "execution_count": null,
   "metadata": {
    "dotnet_interactive": {
     "language": "csharp"
    },
    "polyglot_notebook": {
     "kernelName": "csharp"
    }
   },
   "outputs": [],
   "source": [
    "var results = await batchEval\n",
    "    .WithInputProcessor(new UserStoryCreator(kernel))\n",
    "    .WithJsonl(dataFilePath)\n",
    "    .Run();\n",
    "\n",
    "results.EvalResults"
   ]
  }
 ],
 "metadata": {
  "kernelspec": {
   "display_name": ".NET (C#)",
   "language": "C#",
   "name": ".net-csharp"
  },
  "language_info": {
   "name": "polyglot-notebook"
  },
  "polyglot_notebook": {
   "kernelInfo": {
    "defaultKernelName": "csharp",
    "items": [
     {
      "aliases": [],
      "name": "csharp"
     }
    ]
   }
  }
 },
 "nbformat": 4,
 "nbformat_minor": 2
}
